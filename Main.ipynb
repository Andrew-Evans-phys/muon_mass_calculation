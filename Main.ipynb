{
 "cells": [
  {
   "cell_type": "code",
   "execution_count": 1,
   "id": "7c528996",
   "metadata": {},
   "outputs": [],
   "source": [
    "#Program by Andrew M. Evans\n",
    "#The goal of this program is to import data from a .txt file, parse data, process data invariant mass output, and \n",
    "#repackage the data in a new .txt following a similar format"
   ]
  },
  {
   "cell_type": "code",
   "execution_count": 2,
   "id": "1fc1ccb9",
   "metadata": {},
   "outputs": [
    {
     "name": "stdout",
     "output_type": "stream",
     "text": [
      "Welcome to JupyROOT 6.26/00\n"
     ]
    }
   ],
   "source": [
    "import ROOT\n",
    "import numpy as np\n",
    "import os\n",
    "import matplotlib.pyplot as plt"
   ]
  },
  {
   "cell_type": "code",
   "execution_count": 3,
   "id": "9ba1992b",
   "metadata": {},
   "outputs": [],
   "source": [
    "#Creating particle class to group propeties of particles given\n",
    "class Particle: \n",
    "    def __init__(self, pt, eta, phi, m): #imported as strings, float() use to fix\n",
    "        self.pt = float(pt) \n",
    "        self.eta = float(eta)\n",
    "        self.phi = float(phi)\n",
    "        self.m = float(m)\n",
    "        self.p = np.array([0.0,0.0,0.0])\n",
    "        self.vec4 = np.array([0.0,0.0,0.0,0.0])\n",
    "    \n",
    "    def calc_vec4(self):\n",
    "        px = self.pt*np.cos(self.phi)\n",
    "        py = self.pt*np.sin(self.phi)\n",
    "        pz = self.pt*np.sinh(self.eta)\n",
    "        self.p = np.array([px,py,pz])\n",
    "        mag_p = np.sqrt(px*px + py*py + pz*pz)\n",
    "        E = self.pt*np.cosh(self.eta)\n",
    "        self.vec4 = np.array([E, px, py, pz])\n",
    "    \n",
    "    def invariant_mass1(self, p2): #Finds the invariant mass of a two particle collision, centered below 500\n",
    "        M = np.sqrt(2*self.pt*p2.pt*(np.cosh(self.eta-p2.eta)-np.cos(self.phi-p2.phi)))\n",
    "        return M\n",
    "    \n",
    "    def invariant_mass2(self, p2): #curve centered above 750\n",
    "        P1dotP2 = np.dot(self.p, p2.p)\n",
    "        E1E2 = self.vec4[0]*p2.vec4[0]\n",
    "        M = np.sqrt(self.m**2 + p2.m**2 + 2*(E1E2-P1dotP2)) #\n",
    "        return M\n",
    "    \n",
    "    def invariant_mass3(self, p2): #curve centered above 750\n",
    "        M = np.sqrt((self.vec4[0]+p2.vec4[0])**2 - np.linalg.norm(self.p+p2.p)**2) \n",
    "        return M\n",
    "    \n",
    "    \n",
    " "
   ]
  },
  {
   "cell_type": "code",
   "execution_count": 4,
   "id": "090d9ba6",
   "metadata": {},
   "outputs": [],
   "source": [
    "#defining function for unpacking the zip file\n",
    "def data_unpack(file):\n",
    "    f = open(file, \"r\")\n",
    "    Lines = f.readlines()\n",
    "    count = 0\n",
    "    temp, output = [], []\n",
    "    for line in Lines:\n",
    "        if(count % 5 == 0):\n",
    "            if(count): #true for anything other than 0\n",
    "                output.append(temp)\n",
    "            temp = [] #clears temp for the new [(run, event), m1, m2]\n",
    "            data = line[:-1].split(\" \")\n",
    "            temp.append((data[1], data[3])) #(run, event)\n",
    "        if(count % 5 == 2 or count % 5 == 3):\n",
    "            data = line[:-1].split(\" \")\n",
    "            temp.append((data[2],data[3],data[4],data[5]))\n",
    "        count += 1\n",
    "    f.close()\n",
    "    return output"
   ]
  },
  {
   "cell_type": "code",
   "execution_count": 5,
   "id": "b9bfa96d",
   "metadata": {},
   "outputs": [],
   "source": [
    "#taking the unpacked data and instantiating particles with the data\n",
    "def data_to_particle(data):\n",
    "    return [[data[0], Particle(i[0], i[1], i[2], i[3])] for i in data[1:]] #creates a list of lists where the first\n",
    "                                                                    # element of any sublist is the (Run, Event), and\n",
    "                                                                    # the second is the particle with the data input"
   ]
  },
  {
   "cell_type": "code",
   "execution_count": 6,
   "id": "621112b6",
   "metadata": {},
   "outputs": [],
   "source": [
    "#calculates the invariant mass of the particle and packages this into a list with the (Run, Event)\n",
    "def total_m(data): \n",
    "    data[0][1].calc_vec4()\n",
    "    data[1][1].calc_vec4()\n",
    "    m1 = data[0][1]\n",
    "    m2 = data[1][1]\n",
    "    return [data[0], m1.invariant_mass3(m2)] #change the number for other methods of M calc. (1-3)\n",
    "    \n",
    "    "
   ]
  },
  {
   "cell_type": "code",
   "execution_count": 7,
   "id": "dbc7be42",
   "metadata": {},
   "outputs": [],
   "source": [
    "#Takes the (Run, Event) particle lists and formats them in the text file correctly\n",
    "def data_packager(data, output = \"./final_mass.txt\"):\n",
    "    os.remove(output)#should be changed to work when the file doesn't exist\n",
    "    f = open(output, \"a\")\n",
    "    for i in data:\n",
    "        run = i[0][0][0]\n",
    "        event = i[0][0][1]\n",
    "        f.write(\"Run \"+str(run)+\" Event \"+str(event)+\"\\n\")\n",
    "        f.write(\"m = \"+str(i[1])+\"\\n\\n\")#add the Run and event\n",
    "    f.close()"
   ]
  },
  {
   "cell_type": "code",
   "execution_count": 8,
   "id": "5d7f1da1",
   "metadata": {},
   "outputs": [],
   "source": [
    "#main loop\n",
    "parsed_data = data_unpack('/Users/gk/Documents/muon_mass_calculation/muons.txt')\n",
    "total_mass_list = []\n",
    "for i in parsed_data:\n",
    "    total_mass_list.append(total_m(data_to_particle(i)))\n",
    "data_packager(total_mass_list)"
   ]
  },
  {
   "cell_type": "code",
   "execution_count": 14,
   "id": "71106b74",
   "metadata": {
    "scrolled": true
   },
   "outputs": [
    {
     "data": {
      "image/png": "[encoded data removed]",
      "text/plain": [
       "<Figure size 432x288 with 1 Axes>"
      ]
     },
     "metadata": {
      "needs_background": "light"
     },
     "output_type": "display_data"
    }
   ],
   "source": [
    "#for plotting a histogram of the mass data\n",
    "mass = []\n",
    "for i in total_mass_list:\n",
    "    mass.append(i[1])\n",
    "n_bins = 200\n",
    "fig, ax = plt.subplots()\n",
    "plt.title(r'M $= \\sqrt{m_1^{ \\ 2} +m_2^{ \\ 2} +2 \\left( E_1 E_2 - p_1 \\cdot p_2 \\right)}$') #2*(E1E2-P1dotP2)\n",
    "#plt.title(r'M $= \\sqrt{\\left( E_1 + E_2\\right)^2 - \\left|p_1 + p_2 \\right|^2}$')\n",
    "#plt.title(r'M $= \\sqrt{2 \\cdot p_{T1} p_{T2}\\left( \\cosh \\left( \\eta_1-\\eta_2 \\right) - \\cos \\left( \\phi_1 - \\phi_2 \\right) \\right)}$')\n",
    "ax.set_xlabel('mass (GeV)')\n",
    "# We can set the number of bins with the *bins* keyword argument.\n",
    "ax.hist(mass, bins=n_bins)\n",
    "plt.show()"
   ]
  },
  {
   "cell_type": "code",
   "execution_count": null,
   "id": "841bc6d6",
   "metadata": {},
   "outputs": [],
   "source": []
  }
 ],
 "metadata": {
  "kernelspec": {
   "display_name": "Python 3 (ipykernel)",
   "language": "python",
   "name": "python3"
  },
  "language_info": {
   "codemirror_mode": {
    "name": "ipython",
    "version": 3
   },
   "file_extension": ".py",
   "mimetype": "text/x-python",
   "name": "python",
   "nbconvert_exporter": "python",
   "pygments_lexer": "ipython3",
   "version": "3.9.12"
  }
 },
 "nbformat": 4,
 "nbformat_minor": 5
}
